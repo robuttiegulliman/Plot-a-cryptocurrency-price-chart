{
 "cells": [
  {
   "cell_type": "code",
   "execution_count": null,
   "id": "24805cd4-cc79-4a6a-868f-4c8d4483db9a",
   "metadata": {},
   "outputs": [],
   "source": [
    "# The coingeko api usage details are taken from the site given below\n",
    "# https://griddb.net/en/blog/step-by-step-guide-to-collecting-visualizing-historical-cryptocurrency-market-data-with-griddb/\n",
    "\n",
    "from pycoingecko import CoinGeckoAPI # pip install pycoingecko\n",
    "import pandas as pd\n",
    "import numpy as np\n",
    "import scipy as sp\n",
    "import matplotlib.pyplot as plt\n",
    "import math\n",
    "\n",
    "coingecko = CoinGeckoAPI()\n",
    "\n",
    "# the get_historical_data function fetches the prices for a given currency against a fiat (USD, EUR, etc) for a given number of days\n",
    "def get_historical_data(cryptocurrency, fiat_currency, number_of_days):\n",
    "    historic_price = coingecko.get_coin_market_chart_by_id(cryptocurrency, fiat_currency, number_of_days)\n",
    "    prices = [price[1] for price in historic_price['prices']]\n",
    "    return prices\n",
    "\n",
    "\n",
    "# we call the get_historical_data() function and enter the parameters of the coin to be tracked\n",
    "# to search for a particular crypto, go to https://www.coingecko.com/en and search the given currency and take the \n",
    "# For example for the crypto 'Axie Infinity', take the last string from the url https://www.coingecko.com/en/coins/axie-infinity, ie 'axie-infinity'\n",
    "# For a period between 2-90 days, the prices will be fetched for an hourly basis, for a greater period the prices will be on daily basis\n",
    "x = get_historical_data('axie-infinity', 'USD', 180)\n",
    "\n",
    "\n",
    "y = np.arange(1, 182,1)\n",
    "# the numpy formula takes the starting day and the day upto which you want to visualise the prices and an interval of 1 day\n",
    "# the formula might give error for the mismatch in the number of days of x and y, in such case change the number '182' in y to match that of x\n",
    "\n",
    "\n",
    "# Plot the graph\n",
    "plt.plot(y,x)\n",
    "\n",
    "# Adjust the graph properties with x/yticks, labels, title, color weight and font"
   ]
  }
 ],
 "metadata": {
  "kernelspec": {
   "display_name": "Python 3",
   "language": "python",
   "name": "python3"
  },
  "language_info": {
   "codemirror_mode": {
    "name": "ipython",
    "version": 3
   },
   "file_extension": ".py",
   "mimetype": "text/x-python",
   "name": "python",
   "nbconvert_exporter": "python",
   "pygments_lexer": "ipython3",
   "version": "3.8.8"
  }
 },
 "nbformat": 4,
 "nbformat_minor": 5
}
